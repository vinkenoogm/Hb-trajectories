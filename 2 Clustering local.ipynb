{
 "cells": [
  {
   "cell_type": "code",
   "execution_count": null,
   "metadata": {},
   "outputs": [],
   "source": [
    "# Import modules\n",
    "\n",
    "import sys\n",
    "import pandas as pd\n",
    "import numpy as np\n",
    "import random\n",
    "import pickle\n",
    "import datetime\n",
    "import matplotlib.pyplot as plt\n",
    "%matplotlib inline\n",
    "\n",
    "%run MyFunctions.ipynb"
   ]
  },
  {
   "cell_type": "code",
   "execution_count": null,
   "metadata": {},
   "outputs": [],
   "source": [
    "# Read donation data (relative time)\n",
    "df = pd.read_pickle('X:/df_rel_full.pkl')\n",
    "df = df.loc[df['Donatiesoortcode'] == 'V', ]\n",
    "df['TimeSinceFirst'] = df['TimeSinceFirst']\n",
    "\n",
    "# Read donor data\n",
    "df_donors = pd.read_pickle('X:/donors.pkl')\n",
    "\n",
    "# Only take donors that have donated in 2010 or later, but not before (proxy for new donors)\n",
    "old_donors = np.unique(list(df.loc[df['DateTime'].dt.year < 2010, 'KeyID']))\n",
    "df = df.loc[~df['KeyID'].isin(old_donors), ]\n",
    "df_donors = df_donors.loc[df_donors.index.isin(np.unique(df['KeyID'])), ]\n",
    "\n",
    "# List of KeyIDs by sex\n",
    "id_f = list(df_donors.loc[df_donors['Geslacht'] == 'V', ].index)\n",
    "id_m = list(df_donors.loc[df_donors['Geslacht'] == 'M', ].index)"
   ]
  },
  {
   "cell_type": "code",
   "execution_count": null,
   "metadata": {},
   "outputs": [],
   "source": [
    "print(\"Total number of female donors:\", len(id_f))\n",
    "print(\"Total number of male donors\", len(id_m))\n",
    "\n",
    "df_f = df.loc[df['KeyID'].isin(id_f), ]\n",
    "df_m = df.loc[df['KeyID'].isin(id_m), ]\n",
    "countsf = df_f['KeyID'].value_counts()\n",
    "countsm = df_m['KeyID'].value_counts()\n",
    "id_f9 = list(np.unique(df_f.loc[df_f['KeyID'].isin(countsf.index[countsf > 8]), 'KeyID'])) \n",
    "id_m9 = list(np.unique(df_m.loc[df_m['KeyID'].isin(countsm.index[countsm > 8]), 'KeyID'])) \n",
    "\n",
    "print(\"Number of female donors with 9 or more donations in 9 years:\", len(id_f9))\n",
    "print(\"Number of male donors with 9 or more donations in 9 years:\", len(id_m9))"
   ]
  },
  {
   "cell_type": "code",
   "execution_count": null,
   "metadata": {},
   "outputs": [],
   "source": [
    "# df_weekly_f = makeSeriesDf(data=df, ids=id_f9, interval=7, xmax=9*365)\n",
    "# df_weekly_f.to_pickle('X:/df_weekly_f.pkl')\n",
    "# df_weekly_m = makeSeriesDf(data=df, ids=id_m9, interval=7, xmax=9*365)\n",
    "# df_weekly_m.to_pickle('X:/df_weekly_m.pkl')"
   ]
  },
  {
   "cell_type": "code",
   "execution_count": null,
   "metadata": {},
   "outputs": [],
   "source": [
    "df_weekly_f = pd.read_json('X:/df_weekly_f.json')\n",
    "df_weekly_m = pd.read_json('X:/df_weekly_m.json')\n",
    "\n",
    "df_weekly_f.drop(df_weekly_f.columns[len(df_weekly_f.columns)-50:], axis=1, inplace=True)\n",
    "df_weekly_m.drop(df_weekly_m.columns[len(df_weekly_m.columns)-50:], axis=1, inplace=True)"
   ]
  },
  {
   "cell_type": "code",
   "execution_count": null,
   "metadata": {},
   "outputs": [],
   "source": [
    "df_weekly_f.to_json('X:/df_weekly_f.json')\n",
    "df_weekly_m.to_json('X:/df_weekly_m.json')"
   ]
  },
  {
   "cell_type": "code",
   "execution_count": null,
   "metadata": {},
   "outputs": [],
   "source": [
    "# n = 5000\n",
    "# selection_f = random.sample(list(df_weekly_f.index), n)\n",
    "# selection_m = random.sample(list(df_weekly_m.index), n)\n",
    "\n",
    "# df_weekly_f.loc[selection_f].to_pickle('X:/df_weekly_f_5000.pkl')\n",
    "# df_weekly_m.loc[selection_m].to_pickle('X:/df_weekly_m_5000.pkl')\n",
    "# df_weekly_f.loc[selection_f].to_json('X:/df_weekly_f_5000.json')\n",
    "# df_weekly_m.loc[selection_m].to_json('X:/df_weekly_m_5000.json')"
   ]
  },
  {
   "cell_type": "code",
   "execution_count": null,
   "metadata": {},
   "outputs": [],
   "source": [
    "# FEMALE\n",
    "\n",
    "df_weekly_f = pd.read_json('X:/df_weekly_f_5000.json')\n",
    "df_weekly_m = pd.read_json('X:/df_weekly_m_5000.json')\n",
    "\n",
    "df_weekly_f.drop(df_weekly_f.columns[len(df_weekly_f.columns)-50:], axis=1, inplace=True)\n",
    "df_weekly_m.drop(df_weekly_m.columns[len(df_weekly_m.columns)-50:], axis=1, inplace=True)\n",
    "\n",
    "# print(\"Women\")\n",
    "# for k in [5]:\n",
    "#     print('\\nStarting clustering with', k, 'clusters')\n",
    "#     print(datetime.datetime.now())\n",
    "#     c, a, d = k_means_clust(data=df_weekly_f, num_clust=k, num_iter=5, plot=True)\n",
    "#     c.to_pickle('X:/clusterresults_20190601/clusters_f'+str(k)+'.pkl')\n",
    "#     d.to_pickle('X:/clusterresults_20190601/distances_f'+str(k)+'.pkl')\n",
    "#     out = open('X:/clusterresults_20190601/assignments_f'+str(k)+'.pkl', 'wb')\n",
    "#     pickle.dump(a, out)\n",
    "#     out.close()\n",
    "    \n",
    "# # MALE\n",
    "\n",
    "# print(\"Men\")\n",
    "# for k in [5]:\n",
    "#     print('\\nStarting clustering with', k, 'clusters')\n",
    "#     print(datetime.datetime.now())\n",
    "#     c, a, d = k_means_clust(data=df_weekly_m, num_clust=k, num_iter=5, plot=True)\n",
    "#     c.to_pickle('X:/clusterresults_20190601/clusters_m'+str(k)+'.pkl')\n",
    "#     d.to_pickle('X:/clusterresults_20190601/distances_m'+str(k)+'.pkl')\n",
    "#     out = open('X:/clusterresults_20190601/assignments_m'+str(k)+'.pkl', 'wb')\n",
    "#     pickle.dump(a, out)\n",
    "#     out.close()"
   ]
  },
  {
   "cell_type": "code",
   "execution_count": null,
   "metadata": {},
   "outputs": [],
   "source": [
    "df['TimeSinceFirst'] = df['TimeSinceFirst'] * 365\n",
    "df.head()"
   ]
  },
  {
   "cell_type": "code",
   "execution_count": null,
   "metadata": {},
   "outputs": [],
   "source": [
    "df_weekly_f.shape[0]"
   ]
  },
  {
   "cell_type": "code",
   "execution_count": null,
   "metadata": {},
   "outputs": [],
   "source": [
    "all_index = list(df_weekly_f.index) + list(df_weekly_m.index)"
   ]
  },
  {
   "cell_type": "code",
   "execution_count": null,
   "metadata": {},
   "outputs": [],
   "source": [
    "df2 = df.loc[df['KeyID'].isin(all_index), ]"
   ]
  },
  {
   "cell_type": "code",
   "execution_count": null,
   "metadata": {},
   "outputs": [],
   "source": [
    "x = [1, 2, 3, 4, 5, 6]\n",
    "a = x[1:]\n",
    "b = x[:-1]\n",
    "\n",
    "[i - j for i, j in zip(a, b)]"
   ]
  },
  {
   "cell_type": "code",
   "execution_count": null,
   "metadata": {},
   "outputs": [],
   "source": [
    "print(a)\n",
    "print(b)"
   ]
  },
  {
   "cell_type": "code",
   "execution_count": null,
   "metadata": {},
   "outputs": [],
   "source": [
    "df_f = df.loc[df['KeyID'].isin(list(df_weekly_f.index)), ]\n",
    "\n",
    "a = df_f.loc[df_f['TimeSinceFirst'] > 0, 'TimeSinceFirst'][1:] \n",
    "b = df_f.loc[df_f['TimeSinceFirst'] > 0, 'TimeSinceFirst'][:-1]\n",
    "diffs_f = [i - j for i, j in zip(a, b)]\n",
    "\n",
    "df_m = df.loc[df['KeyID'].isin(list(df_weekly_m.index)), ]\n",
    "\n",
    "a = df_m.loc[df_m['TimeSinceFirst'] > 0, 'TimeSinceFirst'][1:] \n",
    "b = df_m.loc[df_m['TimeSinceFirst'] > 0, 'TimeSinceFirst'][:-1]\n",
    "diffs_m = [i - j for i, j in zip(a, b)]"
   ]
  },
  {
   "cell_type": "code",
   "execution_count": null,
   "metadata": {},
   "outputs": [],
   "source": [
    "print(\"Women\", np.median(diffs_f), np.percentile(diffs_f, 25, interpolation='midpoint'), np.percentile(diffs_f, 75, interpolation='midpoint'))\n",
    "print(\"Men\", np.median(diffs_m), np.percentile(diffs_m, 25, interpolation='midpoint'), np.percentile(diffs_m, 75, interpolation='midpoint'))"
   ]
  },
  {
   "cell_type": "code",
   "execution_count": null,
   "metadata": {},
   "outputs": [],
   "source": [
    "len_f = list(df.loc[df['KeyID'].isin(list(df_weekly_f.index)), ].groupby('KeyID').count()['DateTime'])\n",
    "len_m = list(df.loc[df['KeyID'].isin(list(df_weekly_m.index)), ].groupby('KeyID').count()['DateTime'])"
   ]
  },
  {
   "cell_type": "code",
   "execution_count": null,
   "metadata": {},
   "outputs": [],
   "source": [
    "plt.hist(len_m)"
   ]
  },
  {
   "cell_type": "code",
   "execution_count": null,
   "metadata": {},
   "outputs": [],
   "source": [
    "np.percentile(len_f, 75, interpolation='midpoint')"
   ]
  },
  {
   "cell_type": "code",
   "execution_count": null,
   "metadata": {},
   "outputs": [],
   "source": [
    "np.percentile(len_m, 75, interpolation='midpoint')"
   ]
  }
 ],
 "metadata": {
  "kernelspec": {
   "display_name": "Python 3",
   "language": "python",
   "name": "python3"
  },
  "language_info": {
   "codemirror_mode": {
    "name": "ipython",
    "version": 3
   },
   "file_extension": ".py",
   "mimetype": "text/x-python",
   "name": "python",
   "nbconvert_exporter": "python",
   "pygments_lexer": "ipython3",
   "version": "3.7.2"
  }
 },
 "nbformat": 4,
 "nbformat_minor": 2
}
