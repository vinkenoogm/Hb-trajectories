{
 "cells": [
  {
   "cell_type": "code",
   "execution_count": null,
   "metadata": {},
   "outputs": [],
   "source": [
    "# Import modules\n",
    "\n",
    "import sys\n",
    "import pandas as pd\n",
    "import numpy as np\n",
    "import random\n",
    "import pickle\n",
    "import datetime\n",
    "import matplotlib.pyplot as plt\n",
    "%matplotlib inline\n",
    "from statsmodels.tsa.seasonal import seasonal_decompose\n",
    "\n",
    "from pandas.plotting import register_matplotlib_converters\n",
    "register_matplotlib_converters()"
   ]
  },
  {
   "cell_type": "code",
   "execution_count": null,
   "metadata": {},
   "outputs": [],
   "source": [
    "df = pd.read_pickle('X:/Brondata/donatiedata_200601_201902.pkl')\n",
    "df_donors = pd.read_pickle('X:/Brondata/donors.pkl')"
   ]
  },
  {
   "cell_type": "code",
   "execution_count": null,
   "metadata": {},
   "outputs": [],
   "source": [
    "# List of KeyIDs by sex\n",
    "id_f = list(df_donors.loc[df_donors['Geslacht'] == 'V', ].index)\n",
    "id_m = list(df_donors.loc[df_donors['Geslacht'] == 'M', ].index)"
   ]
  },
  {
   "cell_type": "code",
   "execution_count": null,
   "metadata": {},
   "outputs": [],
   "source": [
    "df['Date'] = df['DateTime'].dt.date\n",
    "df['Time'] = df['DateTime'].dt.time\n",
    "df.head()"
   ]
  },
  {
   "cell_type": "code",
   "execution_count": null,
   "metadata": {},
   "outputs": [],
   "source": [
    "plt.plot(df.loc[df['KeyID'].isin(id_f), ].groupby(['DateTime'])['Hb'].mean())"
   ]
  },
  {
   "cell_type": "code",
   "execution_count": null,
   "metadata": {},
   "outputs": [],
   "source": [
    "plt.plot(df.loc[df['KeyID'].isin(id_m), ].groupby(['DateTime'])['Hb'].mean())"
   ]
  },
  {
   "cell_type": "code",
   "execution_count": null,
   "metadata": {},
   "outputs": [],
   "source": [
    "seriesF = df.loc[df['KeyID'].isin(id_f), ].groupby(['DateTime'])['Hb'].mean().to_frame()\n",
    "seriesF = seriesF.dropna(subset=['Hb'])\n",
    "seriesF = seriesF.reset_index()\n",
    "seriesF['DateTime'] = pd.to_datetime(seriesF['DateTime'])\n",
    "seriesF = seriesF.sort_values('DateTime').set_index('DateTime')\n",
    "seriesF = seriesF.resample('W-Mon').mean()\n",
    "\n",
    "resultF = seasonal_decompose(seriesF, model='additive', freq=52)\n",
    "resultF.plot()\n",
    "plt.show()"
   ]
  },
  {
   "cell_type": "code",
   "execution_count": null,
   "metadata": {},
   "outputs": [],
   "source": [
    "seriesM = df.loc[df['KeyID'].isin(id_m), ].groupby(['DateTime'])['Hb'].mean().to_frame()\n",
    "seriesM = seriesM.dropna(subset=['Hb'])\n",
    "seriesM = seriesM.reset_index()\n",
    "seriesM['DateTime'] = pd.to_datetime(seriesM['DateTime'])\n",
    "seriesM = seriesM.sort_values('DateTime').set_index('DateTime')\n",
    "seriesM = seriesM.resample('W-Mon').mean()\n",
    "\n",
    "resultM = seasonal_decompose(seriesM, model='additive', freq=52)\n",
    "resultM.plot()\n",
    "plt.show()"
   ]
  },
  {
   "cell_type": "code",
   "execution_count": null,
   "metadata": {},
   "outputs": [],
   "source": [
    "def adjustHb(row, adjustment):\n",
    "    lastmonday = pd.to_datetime(row['DateTime']) - datetime.timedelta(days=row['DateTime'].weekday())\n",
    "    return row['Hb'] - float(adjustment.loc[lastmonday, ])"
   ]
  },
  {
   "cell_type": "code",
   "execution_count": null,
   "metadata": {},
   "outputs": [],
   "source": [
    "# 16:10 - 16:36\n",
    "df.loc[df['KeyID'].isin(id_f), 'Hb_adjusted'] = df.loc[df['KeyID'].isin(id_f), ].apply(adjustHb, adjustment=resultF.seasonal, axis=1)"
   ]
  },
  {
   "cell_type": "code",
   "execution_count": null,
   "metadata": {},
   "outputs": [],
   "source": [
    "# 13:44\n",
    "df.loc[df['KeyID'].isin(id_m), 'Hb_adjusted'] = df.loc[df['KeyID'].isin(id_m), ].apply(adjustHb, adjustment=resultM.seasonal, axis=1)"
   ]
  },
  {
   "cell_type": "code",
   "execution_count": null,
   "metadata": {},
   "outputs": [],
   "source": [
    "df.to_pickle('X:/201902 Hb Trajectories/donaties_hb_adjusted.pkl')"
   ]
  },
  {
   "cell_type": "code",
   "execution_count": null,
   "metadata": {},
   "outputs": [],
   "source": [
    "df = pd.read_pickle('X:/201902 Hb Trajectories/donaties_hb_adjusted.pkl')\n",
    "df.head()"
   ]
  },
  {
   "cell_type": "code",
   "execution_count": null,
   "metadata": {},
   "outputs": [],
   "source": [
    "seriesF = df.loc[df['KeyID'].isin(id_m), ].groupby(['DateTime'])['Hb_adjusted'].mean().to_frame()\n",
    "seriesF = seriesF.dropna(subset=['Hb_adjusted'])\n",
    "seriesF = seriesF.reset_index()\n",
    "seriesF['DateTime'] = pd.to_datetime(seriesF['DateTime'])\n",
    "seriesF = seriesF.sort_values('DateTime').set_index('DateTime')\n",
    "seriesF = seriesF.resample('W-Mon').mean()\n",
    "\n",
    "resultF = seasonal_decompose(seriesF, model='additive', freq=52)\n",
    "resultF.plot()\n",
    "plt.show()"
   ]
  }
 ],
 "metadata": {
  "kernelspec": {
   "display_name": "Python 3",
   "language": "python",
   "name": "python3"
  },
  "language_info": {
   "codemirror_mode": {
    "name": "ipython",
    "version": 3
   },
   "file_extension": ".py",
   "mimetype": "text/x-python",
   "name": "python",
   "nbconvert_exporter": "python",
   "pygments_lexer": "ipython3",
   "version": "3.6.8"
  }
 },
 "nbformat": 4,
 "nbformat_minor": 2
}
