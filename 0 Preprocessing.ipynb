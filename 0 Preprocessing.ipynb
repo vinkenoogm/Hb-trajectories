{
 "cells": [
  {
   "cell_type": "code",
   "execution_count": null,
   "metadata": {},
   "outputs": [],
   "source": [
    "# Import modules\n",
    "\n",
    "import sys\n",
    "import pandas as pd\n",
    "import numpy as np\n",
    "import random\n",
    "import pickle\n",
    "import datetime\n",
    "import matplotlib.pyplot as plt\n",
    "%matplotlib inline"
   ]
  },
  {
   "cell_type": "code",
   "execution_count": null,
   "metadata": {},
   "outputs": [],
   "source": [
    "# Open .sav data, correct variable names\n",
    "# 13:26\n",
    "# import savReaderWriter as spss\n",
    "\n",
    "# sav_data = spss.SavReader('X:/Brondata/donatiedata_200601_201902.sav', returnHeader = True)\n",
    "# raw_data = pd.DataFrame(list(sav_data))\n",
    "raw_data.columns = ['DonatieEIN', 'DonatieDatum', 'RegistratieTijd', 'Ferritine', 'FerritineDatum', 'Donatiesoortcode', 'Donatiestatuscode', 'Volume',\n",
    "                    'DonatieStarttijd', 'DonatieStoptijd', 'WO_Antwoord', 'Hb', 'KeyID', 'Geslacht', 'Gewicht', 'Lengte', 'Bloedgroep', 'Geboortejaar']\n",
    "\n",
    "raw_data.drop([0], inplace=True)\n",
    "raw_data.reset_index(inplace=True, drop=True)"
   ]
  },
  {
   "cell_type": "code",
   "execution_count": null,
   "metadata": {},
   "outputs": [],
   "source": [
    "raw_data.head()"
   ]
  },
  {
   "cell_type": "code",
   "execution_count": null,
   "metadata": {},
   "outputs": [],
   "source": [
    "# Make donations dataframe\n",
    "cols = ['KeyID', 'DonatieDatum', 'DonatieStarttijd', 'DonatieStopttijd', 'Donatiesoortcode', 'Volume', 'Hb', 'Ferritine', 'FerritineDatum']\n",
    "df = raw_data.loc[:, cols]\n",
    "\n",
    "# Correct encoding\n",
    "for cname in ['KeyID', 'DonatieDatum', 'DonatieStarttijd', 'DonatieStopttijd', 'Donatiesoortcode', 'FerritineDatum']:\n",
    "    df.loc[:, cname] = df.loc[:, cname].str.decode(\"utf-8\")\n",
    "\n",
    "# Transform variables\n",
    "df['DonatieDatum'] = pd.to_datetime(df['DonatieDatum'], errors='coerce', format='%Y/%m/%d')\n",
    "df['DonatieStarttijd'] = pd.to_datetime(df['DonatieStarttijd'], errors='coerce', format='%H:%M:%S').dt.time\n",
    "df['DonatieStopttijd'] = pd.to_datetime(df['DonatieStopttijd'], errors='coerce', format='%H:%M:%S').dt.time\n",
    "df['FerritineDatum'] = pd.to_datetime(df['FerritineDatum'], errors='coerce', format='%Y/%m/%d')\n",
    "df['KeyID'] = df['KeyID'].astype('category')\n",
    "df['Donatiesoortcode'] = df['Donatiesoortcode'].astype('category')\n",
    "df['DateTime'] = ''\n",
    "df.loc[:, 'DateTime'] = pd.to_datetime(df.loc[:, 'DonatieDatum'].apply(str) + ' ' + df.loc[:, 'DonatieStarttijd'].apply(str))\n",
    "\n",
    "for index, row in df.loc[df['Volume'] < 0, :].iterrows():\n",
    "    df.loc[index, 'Volume'] = 0\n",
    "df['Volume'] = pd.to_numeric(df['Volume'], downcast='unsigned', errors='coerce')\n",
    "df.loc[np.isnan(df['Volume']), 'Volume'] = 0\n",
    "df['Hb'] = pd.to_numeric(df['Hb'], errors='coerce')\n",
    "df['Ferritine'] = pd.to_numeric(df['Ferritine'], errors='coerce')\n",
    "\n",
    "# Save dataframe\n",
    "df.to_pickle('X:/donaties.pkl')\n",
    "\n",
    "# Make donor dataframe\n",
    "cols = ['KeyID', 'Geboortejaar', 'Geslacht', 'Bloedgroep', 'Gewicht', 'Lengte']\n",
    "df_donors = raw_data.loc[:, cols]\n",
    "\n",
    "# Correct encoding\n",
    "for cname in ['KeyID', 'Geslacht', 'Bloedgroep']:\n",
    "    df_donors.loc[:, cname] = df_donors.loc[:, cname].str.decode(\"utf-8\")\n",
    "    \n",
    "# Drop duplicate entries per donor, check number of donors\n",
    "df_donors.drop_duplicates(keep='first', inplace=True)\n",
    "print(len(np.unique(df_donors['KeyID'])), \"unique donors\")\n",
    "print(df_donors.shape[0], \"total in dataframe\")\n",
    "\n",
    "# Set index to donor ID\n",
    "df_donors.set_index('KeyID')\n",
    "\n",
    "# Save dataframe\n",
    "df_donors.to_pickle('X:/donors.pkl')"
   ]
  },
  {
   "cell_type": "code",
   "execution_count": null,
   "metadata": {},
   "outputs": [],
   "source": [
    "df_donors.head()"
   ]
  },
  {
   "cell_type": "code",
   "execution_count": null,
   "metadata": {},
   "outputs": [],
   "source": [
    "# List of KeyIDs by sex\n",
    "id_f = list(df_donors.loc[df_donors['Geslacht'] == 'V', ].index)\n",
    "id_m = list(df_donors.loc[df_donors['Geslacht'] == 'M', ].index)\n",
    "\n",
    "# Add column HbCheck \n",
    "conditions = [(df['KeyID'].isin(id_f)) & (df['Hb'] >= 7.8) & (df['Hb'] <= 11),\n",
    "              (df['KeyID'].isin(id_f)) & (df['Hb'] < 7.8),\n",
    "              (df['KeyID'].isin(id_f)) & (df['Hb'] > 11),\n",
    "              (df['KeyID'].isin(id_m)) & (df['Hb'] >= 8.4) & (df['Hb'] <= 12),\n",
    "              (df['KeyID'].isin(id_m)) & (df['Hb'] < 8.4),\n",
    "              (df['KeyID'].isin(id_m)) & (df['Hb'] > 12)]\n",
    "choices = ['good', 'low', 'high', 'good', 'low', 'high']\n",
    "\n",
    "df['HbLowHigh'] = ''\n",
    "df.loc[:, 'HbLowHigh'] = np.select(conditions, choices)\n",
    "\n",
    "# Save dataframe\n",
    "df.to_pickle('X:/donaties.pkl')"
   ]
  },
  {
   "cell_type": "code",
   "execution_count": null,
   "metadata": {},
   "outputs": [],
   "source": [
    "# Preprocessing for time series\n",
    "\n",
    "df = pd.read_pickle('X:/Brondata/donatiedata_200601_201902.pkl')\n",
    "df.head()\n",
    "\n",
    "# Read donor data\n",
    "df_donors = pd.read_pickle('X:/Brondata/donors.pkl')\n",
    "\n",
    "# List of KeyIDs by sex\n",
    "id_f = list(df_donors.loc[df_donors['Geslacht'] == 'V', ].index)\n",
    "id_m = list(df_donors.loc[df_donors['Geslacht'] == 'M', ].index)\n",
    "\n",
    "start = datetime.datetime.now()\n",
    "\n",
    "# Get time relative to first measurement\n",
    "counter = 0\n",
    "df_rel = pd.DataFrame(columns=list(df.columns))\n",
    "for s_id in np.unique(list(df['KeyID'])):\n",
    "    df_sub = df[df['KeyID'] == s_id].sort_values('DateTime').reset_index(drop=True).drop_duplicates('DateTime')\n",
    "    tzero = df_sub.loc[0, 'DateTime']\n",
    "    df_sub['TimeSinceFirst'] = df_sub['DateTime'] - tzero\n",
    "    df_rel = df_rel.append(df_sub, sort=True)\n",
    "    counter += 1\n",
    "    if counter in [10, 100, 1000, 10000, 100000]:\n",
    "        print(datetime.datetime.now())\n",
    "        print(counter)\n",
    "    if (datetime.datetime.now() - start) / pd.Timedelta('1 min') > 15:\n",
    "        print(datetime.datetime.now())\n",
    "        print(counter)\n",
    "        start = datetime.datetime.now()\n",
    "    if counter % 100000 == 0:\n",
    "        df_rel.to_pickle('X:/df_rel_full.pkl')\n",
    "        \n",
    "df_rel.loc[df_rel['Hb'] == 999, 'Hb'] = None"
   ]
  },
  {
   "cell_type": "code",
   "execution_count": null,
   "metadata": {},
   "outputs": [],
   "source": [
    "dfmini = df.loc[df['KeyID'].isin(np.unique(df['KeyID'])[:3])]\n",
    "dfmini.head()"
   ]
  },
  {
   "cell_type": "code",
   "execution_count": null,
   "metadata": {},
   "outputs": [],
   "source": [
    "type(df.loc[0, 'DateTime'])"
   ]
  },
  {
   "cell_type": "code",
   "execution_count": null,
   "metadata": {},
   "outputs": [],
   "source": [
    "data2['diffs'] = data2.groupby('ticker')['value'].diff()"
   ]
  },
  {
   "cell_type": "code",
   "execution_count": null,
   "metadata": {},
   "outputs": [],
   "source": [
    "demean = lambda df: df - df.mean()\n",
    "df.groupby(['Groupvar1', 'Groupvar2']).transform(demean)"
   ]
  },
  {
   "cell_type": "code",
   "execution_count": null,
   "metadata": {},
   "outputs": [],
   "source": [
    "def scaleDate(df):\n",
    "    print(df)\n",
    "#     tzero = df.loc[0, 'DateTime']\n",
    "#     df['DateTime'] = df['DateTime'] - tzero\n",
    "#     return df"
   ]
  },
  {
   "cell_type": "code",
   "execution_count": null,
   "metadata": {},
   "outputs": [],
   "source": [
    "t = dfmini.loc[dfmini['KeyID'] == 'DK.00000005', ]"
   ]
  },
  {
   "cell_type": "code",
   "execution_count": null,
   "metadata": {},
   "outputs": [],
   "source": [
    "t['DateTime']"
   ]
  },
  {
   "cell_type": "code",
   "execution_count": null,
   "metadata": {},
   "outputs": [],
   "source": [
    "df = pd.read_pickle('X:/df_rel_full.pkl')"
   ]
  },
  {
   "cell_type": "code",
   "execution_count": null,
   "metadata": {},
   "outputs": [],
   "source": [
    "df.head()"
   ]
  },
  {
   "cell_type": "code",
   "execution_count": null,
   "metadata": {},
   "outputs": [],
   "source": [
    "max(df['DateTime'])"
   ]
  }
 ],
 "metadata": {
  "kernelspec": {
   "display_name": "Python 3",
   "language": "python",
   "name": "python3"
  },
  "language_info": {
   "codemirror_mode": {
    "name": "ipython",
    "version": 3
   },
   "file_extension": ".py",
   "mimetype": "text/x-python",
   "name": "python",
   "nbconvert_exporter": "python",
   "pygments_lexer": "ipython3",
   "version": "3.6.8"
  }
 },
 "nbformat": 4,
 "nbformat_minor": 2
}
