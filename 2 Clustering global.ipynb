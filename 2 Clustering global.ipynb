{
 "cells": [
  {
   "cell_type": "code",
   "execution_count": null,
   "metadata": {},
   "outputs": [],
   "source": [
    "# Import modules\n",
    "\n",
    "import sys\n",
    "import pandas as pd\n",
    "import numpy as np\n",
    "import random\n",
    "import pickle\n",
    "import datetime\n",
    "import matplotlib.pyplot as plt\n",
    "%matplotlib inline\n",
    "import tsfresh\n",
    "from sklearn import preprocessing\n",
    "from sklearn.cluster import KMeans\n",
    "from scipy import stats\n",
    "\n",
    "%run MyFunctions.ipynb"
   ]
  },
  {
   "cell_type": "code",
   "execution_count": null,
   "metadata": {},
   "outputs": [],
   "source": [
    "# my_features = ['Hb__absolute_sum_of_changes', 'Hb__autocorrelation__lag_0', 'Hb__autocorrelation__lag_1', 'Hb__autocorrelation__lag_2',\n",
    "#                'Hb__autocorrelation__lag_3', 'Hb__autocorrelation__lag_4', 'Hb__autocorrelation__lag_5', 'Hb__autocorrelation__lag_6',\n",
    "#                'Hb__autocorrelation__lag_7', 'Hb__autocorrelation__lag_8', 'Hb__autocorrelation__lag_9', 'Hb__kurtosis',\n",
    "#                'Hb__linear_trend__attr_\"intercept\"', 'Hb__linear_trend__attr_\"slope\"', 'Hb__linear_trend__attr_\"stderr\"', \n",
    "#                'Hb__mean_abs_change', 'Hb__sample_entropy', 'Hb__skewness', 'Hb__variance']\n",
    "df_weekly_f = pd.read_json('X:/df_weekly_f_5000.json')\n",
    "df_weekly_m = pd.read_json('X:/df_weekly_m_5000.json')"
   ]
  },
  {
   "cell_type": "code",
   "execution_count": null,
   "metadata": {},
   "outputs": [],
   "source": [
    "y_f = df_weekly_f.transpose().reset_index().rename(columns={'index':'Time'})\n",
    "y_f = pd.melt(y_f, id_vars=y_f.columns[0], value_vars=y_f.columns[1:], var_name='KeyID', value_name='Hb')\n",
    "y_f = y_f.dropna()\n",
    "extracted_features_f = tsfresh.extract_features(y_f, column_id=\"KeyID\", column_sort=\"Time\", column_value='Hb')\n",
    "df_features_f =  extracted_features_f.loc[:, my_features]\n",
    "df_features_f.to_json('X:/df_features_f.json')"
   ]
  },
  {
   "cell_type": "code",
   "execution_count": null,
   "metadata": {},
   "outputs": [],
   "source": [
    "y_m = df_weekly_m.transpose().reset_index().rename(columns={'index':'Time'})\n",
    "y_m = pd.melt(y_m, id_vars=y_m.columns[0], value_vars=y_m.columns[1:], var_name='KeyID', value_name='Hb')\n",
    "y_m = y_m.dropna()\n",
    "extracted_features_m = tsfresh.extract_features(y_m, column_id=\"KeyID\", column_sort=\"Time\", column_value='Hb')\n",
    "df_features_m =  extracted_features_m.loc[:, my_features]\n",
    "df_features_m.to_json('X:/df_features_m.json')"
   ]
  },
  {
   "cell_type": "code",
   "execution_count": null,
   "metadata": {},
   "outputs": [],
   "source": [
    "df_weekly_f = pd.read_json('X:/df_weekly_f_5000.json')\n",
    "df_weekly_m = pd.read_json('X:/df_weekly_m_5000.json')\n",
    "\n",
    "df_features_f = pd.read_json('X:/df_features_f.json')\n",
    "df_features_m = pd.read_json('X:/df_features_m.json')\n",
    "\n",
    "df_features_f = df_features_f.loc[:, ['Hb__linear_trend__attr_\"intercept\"', 'Hb__linear_trend__attr_\"slope\"']]\n",
    "df_features_m = df_features_m.loc[:, ['Hb__linear_trend__attr_\"intercept\"', 'Hb__linear_trend__attr_\"slope\"']]"
   ]
  },
  {
   "cell_type": "code",
   "execution_count": null,
   "metadata": {},
   "outputs": [],
   "source": [
    "df_features_f = normalizeFeatures(df_features_f)\n",
    "df_features_m = normalizeFeatures(df_features_m)\n",
    "\n",
    "centroidsf = calcCentroids(df_features_f, df_weekly_f, [2, 3, 4, 5])\n",
    "centroidsm = calcCentroids(df_features_m, df_weekly_m, [2, 3, 4, 5])\n",
    "\n",
    "with open('X:/clusterresultsglobal2/centroidsf.pkl', 'wb') as f:\n",
    "     pickle.dump(centroidsf, f)\n",
    "        \n",
    "with open('X:/clusterresultsglobal2/centroidsm.pkl', 'wb') as f:\n",
    "     pickle.dump(centroidsm, f)"
   ]
  },
  {
   "cell_type": "code",
   "execution_count": null,
   "metadata": {},
   "outputs": [],
   "source": [
    "def calcDistances(df_features, num_clust, centroids, df, w=5):\n",
    "    kmeans = KMeans(n_clusters=num_clust)\n",
    "    kmeans.fit(df_features)\n",
    "    labels = kmeans.predict(df_features)\n",
    "\n",
    "    distances = pd.DataFrame(index=df_features.index, columns=['cluster', 'distance'])\n",
    "    for c_id in range(0, num_clust):\n",
    "        c_row = centroids.loc[c_id]\n",
    "        s_ids = df_features.index[labels == c_id]\n",
    "        for s_id in s_ids:\n",
    "            s_row = df.loc[s_id]\n",
    "            dist = DTWDistance(s_row, c_row, w)\n",
    "            distances.loc[distances.index == s_id, 'cluster'] = c_id\n",
    "            distances.loc[distances.index == s_id, 'distance'] = dist\n",
    "    return distances"
   ]
  },
  {
   "cell_type": "code",
   "execution_count": null,
   "metadata": {},
   "outputs": [],
   "source": [
    "distances_f2 = calcDistances(df_features_f, 2, centroidsf[1], df_weekly_f)\n",
    "distances_f2.to_json('X:/clusterresultsglobal2/distances_f2.json')\n",
    "\n",
    "distances_f3 = calcDistances(df_features_f, 3, centroidsf[1], df_weekly_f)\n",
    "distances_f3.to_json('X:/clusterresultsglobal/distances_f3.json')\n",
    "\n",
    "distances_f4 = calcDistances(df_features_f, 4, centroidsf[2], df_weekly_f)\n",
    "distances_f4.to_json('X:/clusterresultsglobal/distances_f4.json')\n",
    "\n",
    "distances_f5 = calcDistances(df_features_f, 5, centroidsf[3], df_weekly_f)\n",
    "distances_f5.to_json('X:/clusterresultsglobal/distances_f5.json')"
   ]
  },
  {
   "cell_type": "code",
   "execution_count": null,
   "metadata": {},
   "outputs": [],
   "source": [
    "distances_m2 = calcDistances(df_features_m, 2, centroidsm[0], df_weekly_m)\n",
    "distances_m2.to_json('X:/clusterresultsglobal/distances_m2.json')\n",
    "\n",
    "distances_m3 = calcDistances(df_features_m, 3, centroidsm[1], df_weekly_m)\n",
    "distances_m3.to_json('X:/clusterresultsglobal/distances_m3.json')\n",
    "\n",
    "distances_m4 = calcDistances(df_features_m, 4, centroidsm[2], df_weekly_m)\n",
    "distances_m4.to_json('X:/clusterresultsglobal/distances_m4.json')\n",
    "\n",
    "distances_m5 = calcDistances(df_features_m, 5, centroidsm[3], df_weekly_m)\n",
    "distances_m5.to_json('X:/clusterresultsglobal/distances_m5.json')"
   ]
  },
  {
   "cell_type": "code",
   "execution_count": null,
   "metadata": {},
   "outputs": [],
   "source": [
    "df_weekly_f.head()"
   ]
  },
  {
   "cell_type": "code",
   "execution_count": null,
   "metadata": {},
   "outputs": [],
   "source": [
    "X = list(df_weekly_f.columns)"
   ]
  },
  {
   "cell_type": "code",
   "execution_count": null,
   "metadata": {},
   "outputs": [],
   "source": [
    "def getSlopeIntercept(X, Y):\n",
    "    Y = Y[~np.isnan(Y)]\n",
    "    X = X[:len(Y)]\n",
    "    fit = stats.linregress(X, Y)\n",
    "    slope = fit[0]\n",
    "    intercept = fit[1]\n",
    "    return intercept, slope"
   ]
  },
  {
   "cell_type": "code",
   "execution_count": null,
   "metadata": {},
   "outputs": [],
   "source": [
    "getSlopeIntercept(X, df_weekly_f.loc['DK.00000162'])"
   ]
  },
  {
   "cell_type": "code",
   "execution_count": null,
   "metadata": {},
   "outputs": [],
   "source": [
    "df_features_f['intercept2'] = df_weekly_f.apply(lambda x: getSlopeIntercept(X, x)[0], axis=1)\n",
    "df_features_f['slope2'] = df_weekly_f.apply(lambda x: getSlopeIntercept(X, x)[1], axis=1)\n",
    "df_features_m['intercept2'] = df_weekly_m.apply(lambda x: getSlopeIntercept(X, x)[0], axis=1)\n",
    "df_features_m['slope2'] = df_weekly_m.apply(lambda x: getSlopeIntercept(X, x)[1], axis=1)"
   ]
  },
  {
   "cell_type": "code",
   "execution_count": null,
   "metadata": {},
   "outputs": [],
   "source": [
    "df_features_f.columns = ['intercept1', 'slope1', 'intercept2', 'slope2']"
   ]
  },
  {
   "cell_type": "code",
   "execution_count": null,
   "metadata": {},
   "outputs": [],
   "source": [
    "df_features_f['slopediff'] = abs(df_features_f['slope1'] - df_features_f['slope2'])\n",
    "df_features_f['sloperatio'] = df_features_f['slope1'] / df_features_f['slope2']"
   ]
  },
  {
   "cell_type": "code",
   "execution_count": null,
   "metadata": {},
   "outputs": [],
   "source": [
    "df_features_f.sort_values('slopediff', ascending=False).head()"
   ]
  }
 ],
 "metadata": {
  "kernelspec": {
   "display_name": "Python 3",
   "language": "python",
   "name": "python3"
  },
  "language_info": {
   "codemirror_mode": {
    "name": "ipython",
    "version": 3
   },
   "file_extension": ".py",
   "mimetype": "text/x-python",
   "name": "python",
   "nbconvert_exporter": "python",
   "pygments_lexer": "ipython3",
   "version": "3.6.8"
  }
 },
 "nbformat": 4,
 "nbformat_minor": 2
}
