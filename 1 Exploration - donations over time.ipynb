{
 "cells": [
  {
   "cell_type": "code",
   "execution_count": null,
   "metadata": {},
   "outputs": [],
   "source": [
    "# Import modules\n",
    "\n",
    "import sys\n",
    "import pandas as pd\n",
    "import numpy as np\n",
    "import random\n",
    "import pickle\n",
    "import datetime\n",
    "import matplotlib.pyplot as plt\n",
    "%matplotlib inline\n",
    "from pandas.plotting import register_matplotlib_converters\n",
    "register_matplotlib_converters()\n",
    "import cufflinks as cf\n",
    "from lifelines import KaplanMeierFitter, CoxPHFitter\n",
    "\n",
    "import ipywidgets as widgets\n",
    "from ipywidgets import interact, interact_manual"
   ]
  },
  {
   "cell_type": "code",
   "execution_count": null,
   "metadata": {},
   "outputs": [],
   "source": [
    "# Read donor data\n",
    "df_donors = pd.read_pickle('X:/201902 Hb Trajectories/donors.pkl')\n",
    "\n",
    "# List of KeyIDs by sex\n",
    "id_f = list(df_donors.loc[df_donors['Geslacht'] == 'V', ].index)\n",
    "id_m = list(df_donors.loc[df_donors['Geslacht'] == 'M', ].index)\n",
    "\n",
    "df_donors.head()"
   ]
  },
  {
   "cell_type": "code",
   "execution_count": null,
   "metadata": {},
   "outputs": [],
   "source": [
    "# Read donation data\n",
    "df = pd.read_pickle('X:/Brondata/donatiedata_200601_201902.pkl')\n",
    "df.head()"
   ]
  },
  {
   "cell_type": "code",
   "execution_count": null,
   "metadata": {},
   "outputs": [],
   "source": [
    "np.arange(6.0, 12.0, 0.1)"
   ]
  },
  {
   "cell_type": "code",
   "execution_count": null,
   "metadata": {},
   "outputs": [],
   "source": [
    "df_m = df.loc[df['KeyID'].isin(id_m), ]\n",
    "ax = df_m['Hb'].hist(bins=np.arange(6.0, 12.0, 0.1))\n",
    "ax.set_xlim((6,12))\n",
    "fig = plt.gcf()\n",
    "fig.set_size_inches(15, 8)"
   ]
  },
  {
   "cell_type": "code",
   "execution_count": null,
   "metadata": {},
   "outputs": [],
   "source": [
    "# Create dataframes (women/men separately) of the number of low and good Hb values per day\n",
    "\n",
    "df_f = df.loc[df['KeyID'].isin(id_f), :]\n",
    "donations_f = df_f[['KeyID', 'DateTime']].groupby('DateTime').count().resample('1d').sum().rename(columns={'KeyID': 'Total'})\n",
    "donations_f['Low Hb'] = df_f.loc[df_f['HbLowHigh'] == 'low', ['KeyID', 'DateTime']].groupby('DateTime').count().resample('1d').sum().rename(columns={'KeyID': 'Low Hb'})\n",
    "donations_f['Good Hb'] = df_f.loc[df_f['HbLowHigh'] == 'good', ['KeyID', 'DateTime']].groupby('DateTime').count().resample('1d').sum().rename(columns={'KeyID': 'Good Hb'})\n",
    "\n",
    "df_m = df.loc[df['KeyID'].isin(id_m), :]\n",
    "donations_m = df_m[['KeyID', 'DateTime']].groupby('DateTime').count().resample('1d').sum().rename(columns={'KeyID': 'Total'})\n",
    "donations_m['Low Hb'] = df_m.loc[df_m['HbLowHigh'] == 'low', ['KeyID', 'DateTime']].groupby('DateTime').count().resample('1d').sum().rename(columns={'KeyID': 'Low Hb'})\n",
    "donations_m['Good Hb'] = df_m.loc[df_m['HbLowHigh'] == 'good', ['KeyID', 'DateTime']].groupby('DateTime').count().resample('1d').sum().rename(columns={'KeyID': 'Good Hb'})\n",
    "\n",
    "donations_f.head()"
   ]
  },
  {
   "cell_type": "code",
   "execution_count": null,
   "metadata": {},
   "outputs": [],
   "source": [
    "# Plot number of low/good Hb by specified interval\n",
    "\n",
    "@interact_manual\n",
    "def plot_donations_by_interval_line(interval='Q',\n",
    "                                    figsize_x=8,\n",
    "                                    figsize_y=6,\n",
    "                                    color1='#FF7800',\n",
    "                                    color2='darkblue'):\n",
    "    \n",
    "    fig, (ax1, ax2) = plt.subplots(nrows=2, ncols=1, figsize=(figsize_x,figsize_y), sharey=True)\n",
    "    \n",
    "    plot_df_f = donations_f.resample(interval, closed='left', label='left').sum()\n",
    "    plot_df_m = donations_m.resample(interval, closed='left', label='left').sum()\n",
    "    \n",
    "    ax1.stackplot(plot_df_f.index, plot_df_f['Low Hb'], plot_df_f['Good Hb'], labels=['Low Hb', 'Healthy Hb'], colors=[color1, color2])\n",
    "    ax2.stackplot(plot_df_m.index, plot_df_m['Low Hb'], plot_df_m['Good Hb'], labels=['Low Hb', 'Healthy Hb'], colors=[color1, color2])\n",
    "\n",
    "    ax1.set_title('Donations by women')\n",
    "    ax1.set_ylabel('Number of donations \\n (per quarter)')\n",
    "    ax1.legend()\n",
    "    ax1.set_xlim((pd.Timestamp(2006, 1, 1), pd.Timestamp(2018, 3, 31)))\n",
    "\n",
    "    ax2.set_title('Donations by men')\n",
    "    ax2.set_ylabel('Number of donations \\n (per quarter)')\n",
    "    ax2.legend()\n",
    "    ax2.set_xlim((pd.Timestamp(2006, 1, 1), pd.Timestamp(2018, 3, 31)))\n",
    "\n",
    "    plt.tight_layout()\n",
    "#     plt.savefig('../Figures/donations.pdf', frameon=False, transparent=True)\n",
    "    plt.show()"
   ]
  },
  {
   "cell_type": "code",
   "execution_count": null,
   "metadata": {},
   "outputs": [],
   "source": [
    "def getSurvivalDf(donations, donors, lim=None):\n",
    "    if lim is None:\n",
    "        lim = len(np.unique(donations['KeyID']))\n",
    "    \n",
    "    df_surv = pd.DataFrame(data=None, index=donors.index, columns=['time', 'deferred', 'sex', 'age'])\n",
    "\n",
    "    counter = 0\n",
    "    for d_id in np.unique(donations['KeyID'])[:lim]:\n",
    "        df_sub = donations.loc[donations['KeyID'] == d_id, ].sort_values('DateTime', ascending=True).reset_index(drop=True)\n",
    "        if df_sub.shape[0] > 1:\n",
    "            df_sub.drop(df_sub.index[0], inplace=True)\n",
    "        else:\n",
    "            continue\n",
    "        df_sub_low = df_sub.loc[df_sub['HbLowHigh'] == 'low', ]\n",
    "        if df_sub_low.shape[0] > 0:\n",
    "            df_surv.loc[df_surv.index == d_id, 'time'] = df_sub_low.index[0]\n",
    "            df_surv.loc[df_surv.index == d_id, 'deferred'] = 1\n",
    "            df_surv.loc[df_surv.index == d_id, 'age'] = list(df_sub_low['DateTime'].dt.year)[0] - donors.loc[d_id, 'Geboortejaar']\n",
    "        else:\n",
    "            df_surv.loc[df_surv.index == d_id, 'time'] = df_sub.index[-1]\n",
    "            df_surv.loc[df_surv.index == d_id, 'deferred'] = 0\n",
    "            df_surv.loc[df_surv.index == d_id, 'age'] = list(df_sub['DateTime'].dt.year)[-1] - donors.loc[d_id, 'Geboortejaar']\n",
    "        df_surv.loc[df_surv.index == d_id, 'sex'] = donors.loc[donors.index == d_id, 'Geslacht']\n",
    "        counter += 1\n",
    "        if counter in [10, 100, 1000, 2000, 3000, 4000, 10000, 100000, 200000, 300000, 400000, 500000, 600000, 700000]:\n",
    "            print(datetime.datetime.now())\n",
    "            print(counter)\n",
    "\n",
    "    return(df_surv)"
   ]
  },
  {
   "cell_type": "code",
   "execution_count": null,
   "metadata": {},
   "outputs": [],
   "source": [
    "# Only take donors that have donated in 2010 or later, but not before\n",
    "# Proxy for new donors\n",
    "\n",
    "old_donors = np.unique(list(df.loc[df['DateTime'].dt.year < 2010, 'KeyID']))\n",
    "df2 = df.loc[~df['KeyID'].isin(old_donors), ]\n",
    "df2.shape"
   ]
  },
  {
   "cell_type": "code",
   "execution_count": null,
   "metadata": {},
   "outputs": [],
   "source": [
    "df_donors.head()"
   ]
  },
  {
   "cell_type": "code",
   "execution_count": null,
   "metadata": {},
   "outputs": [],
   "source": [
    "df2.head()"
   ]
  },
  {
   "cell_type": "code",
   "execution_count": null,
   "metadata": {},
   "outputs": [],
   "source": [
    "# RUN ON PC OVERNIGHT (266605 total)\n",
    "\n",
    "counter = 0\n",
    "for d_id in np.unique(df2['KeyID']):\n",
    "    df2.loc[df2['KeyID'] == d_id, 'Geboortejaar'] = df_donors.loc[d_id, 'Geboortejaar']\n",
    "    df2.loc[df2['KeyID'] == d_id, 'Geslacht'] = df_donors.loc[d_id, 'Geslacht']\n",
    "    counter += 1\n",
    "    if counter in [100, 1000] or counter % 10000 == 0:\n",
    "        print(datetime.datetime.now())\n",
    "        print(counter)\n",
    "        \n",
    "df2.to_csv('X:/donatiesR.csv')"
   ]
  },
  {
   "cell_type": "code",
   "execution_count": null,
   "metadata": {},
   "outputs": [],
   "source": [
    "df_surv = getSurvivalDf(df2, df_donors, lim=3000)\n",
    "df_surv.dropna(inplace=True)\n",
    "df_surv['time'] = pd.to_numeric(df_surv['time'])\n",
    "df_surv['deferred'] = pd.to_numeric(df_surv['deferred'])\n",
    "df_surv['age'] = pd.to_numeric(df_surv['age'])\n",
    "df_surv[['M', 'V']] = pd.get_dummies(df_surv['sex'])\n",
    "df_surv.drop('sex', axis=1, inplace=True)\n",
    "df_surv.drop('M', axis=1, inplace=True)"
   ]
  },
  {
   "cell_type": "code",
   "execution_count": null,
   "metadata": {},
   "outputs": [],
   "source": [
    "df_surv.head()"
   ]
  },
  {
   "cell_type": "code",
   "execution_count": null,
   "metadata": {},
   "outputs": [],
   "source": [
    "kmf = KaplanMeierFitter()\n",
    "kmf.fit(df_surv.loc[df_surv['V'] == 1, 'time'], event_observed=df_surv.loc[df_surv['V'] == 1, 'deferred'], label='Women')\n",
    "ax = kmf.plot(color='#FF7800')\n",
    "print(kmf.survival_function_)\n",
    "\n",
    "kmf.fit(df_surv.loc[df_surv['V'] == 0, 'time'], event_observed=df_surv.loc[df_surv['V'] == 0, 'deferred'], label='Men')\n",
    "ax = kmf.plot(ax=ax, color='darkblue')\n",
    "print(kmf.survival_function_)\n",
    "\n",
    "ax.set_xlabel('Number of donations')\n",
    "ax.set_ylabel('Probability of 0 deferrals')\n",
    "ax.set_xlim((0, 30))\n",
    "ax.set_ylim((0, 1))\n",
    "\n",
    "plt.savefig('survival.pdf', frameon=False, transparent=True)\n",
    "plt.show()"
   ]
  },
  {
   "cell_type": "code",
   "execution_count": null,
   "metadata": {},
   "outputs": [],
   "source": [
    "cph = CoxPHFitter()\n",
    "cph.fit(df_surv, 'time', event_col='deferred')\n",
    "cph.print_summary()"
   ]
  }
 ],
 "metadata": {
  "kernelspec": {
   "display_name": "Python 3",
   "language": "python",
   "name": "python3"
  },
  "language_info": {
   "codemirror_mode": {
    "name": "ipython",
    "version": 3
   },
   "file_extension": ".py",
   "mimetype": "text/x-python",
   "name": "python",
   "nbconvert_exporter": "python",
   "pygments_lexer": "ipython3",
   "version": "3.7.2"
  }
 },
 "nbformat": 4,
 "nbformat_minor": 2
}
