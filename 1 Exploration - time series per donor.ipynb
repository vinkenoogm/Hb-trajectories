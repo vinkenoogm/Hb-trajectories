{
 "cells": [
  {
   "cell_type": "code",
   "execution_count": null,
   "metadata": {},
   "outputs": [],
   "source": [
    "# Import modules\n",
    "\n",
    "import sys\n",
    "import pandas as pd\n",
    "import numpy as np\n",
    "import random\n",
    "import pickle\n",
    "import datetime\n",
    "import matplotlib.pyplot as plt\n",
    "%matplotlib inline\n",
    "import ipywidgets as widgets\n",
    "from ipywidgets import interact, interact_manual\n",
    "\n",
    "# Standard plotly imports\n",
    "import plotly.plotly as py\n",
    "import plotly.graph_objs as go\n",
    "from plotly import tools\n",
    "from plotly.offline import iplot, init_notebook_mode\n",
    "\n",
    "# Using plotly + cufflinks in offline mode\n",
    "import cufflinks\n",
    "cufflinks.go_offline(connected=True)\n",
    "init_notebook_mode(connected=True)\n",
    "\n",
    "%run MyFunctions.ipynb"
   ]
  },
  {
   "cell_type": "code",
   "execution_count": null,
   "metadata": {},
   "outputs": [],
   "source": [
    "# Read donation data (relative time)\n",
    "df = pd.read_pickle('X:/201902 Hb Trajectories/df_rel_full.pkl')\n",
    "df = df.loc[df['Donatiesoortcode'] == 'V', ]\n",
    "\n",
    "# Read donor data\n",
    "df_donors = pd.read_pickle('X:/201902 Hb Trajectories/donors.pkl')\n",
    "\n",
    "# Only take donors that have donated in 2010 or later, but not before (proxy for new donors)\n",
    "old_donors = np.unique(list(df.loc[df['DateTime'].dt.year < 2010, 'KeyID']))\n",
    "df = df.loc[~df['KeyID'].isin(old_donors), ]\n",
    "df_donors = df_donors.loc[df_donors.index.isin(np.unique(df['KeyID'])), ]\n",
    "\n",
    "# List of KeyIDs by sex\n",
    "id_f = list(df_donors.loc[df_donors['Geslacht'] == 'V', ].index)\n",
    "id_m = list(df_donors.loc[df_donors['Geslacht'] == 'M', ].index)"
   ]
  },
  {
   "cell_type": "code",
   "execution_count": null,
   "metadata": {},
   "outputs": [],
   "source": [
    "df_m = df.loc[df['KeyID'].isin(id_m), ]"
   ]
  },
  {
   "cell_type": "code",
   "execution_count": null,
   "metadata": {},
   "outputs": [],
   "source": [
    "df_m['Hb'].hist(bins=200)"
   ]
  },
  {
   "cell_type": "code",
   "execution_count": null,
   "metadata": {},
   "outputs": [],
   "source": [
    "df_f = df.loc[df['KeyID'].isin(id_f), ]\n",
    "print(df_f.shape)\n",
    "df_f.groupby('HbLowHigh').count()"
   ]
  },
  {
   "cell_type": "code",
   "execution_count": null,
   "metadata": {},
   "outputs": [],
   "source": [
    "df_m = df.loc[df['KeyID'].isin(id_m), ]\n",
    "print(df_m.shape)\n",
    "df_m.groupby('HbLowHigh').count()"
   ]
  },
  {
   "cell_type": "code",
   "execution_count": null,
   "metadata": {},
   "outputs": [],
   "source": [
    "n = 9\n",
    "df_donor_count = df.groupby('KeyID').size()\n",
    "topn = list(df_donor_count.sort_values(ascending=False)[:n].index)\n",
    "\n",
    "plotIndividuals(df, topn)"
   ]
  },
  {
   "cell_type": "code",
   "execution_count": null,
   "metadata": {},
   "outputs": [],
   "source": [
    "@interact_manual\n",
    "def plotAllTimeseries(data=df,\n",
    "                     figsize_x=20,\n",
    "                     figsize_y=16,\n",
    "                     alpha=(0, 1, 0.01)):\n",
    "    fig, (ax1, ax2) = plt.subplots(nrows=2, ncols=1, figsize=(figsize_x, figsize_y), sharex=True)\n",
    "\n",
    "    for d_id in np.unique(df['KeyID']):\n",
    "        df_sub = df.loc[df['KeyID'] == d_id, :]\n",
    "        if d_id in id_f:\n",
    "            ax1.plot(df_sub['TimeSinceFirst'], df_sub['Hb'], color='black', alpha=alpha)\n",
    "        else:\n",
    "            ax2.plot(df_sub['TimeSinceFirst'], df_sub['Hb'], color='black', alpha=alpha)\n",
    "        ax1.axhline(y=7.8, color='red', linestyle='--')\n",
    "        ax2.axhline(y=8.4, color='red', linestyle='--')\n",
    "\n",
    "        fig.text(0.5, 0.04, 'Time since first measurement', ha='center', fontsize=12)\n",
    "        fig.text(0.04, 0.5, 'Hb value', va='center', rotation='vertical', fontsize=12)\n",
    "    \n",
    "    plt.show()"
   ]
  },
  {
   "cell_type": "code",
   "execution_count": null,
   "metadata": {},
   "outputs": [],
   "source": [
    "df.head()"
   ]
  },
  {
   "cell_type": "code",
   "execution_count": null,
   "metadata": {},
   "outputs": [],
   "source": [
    "print(datetime.datetime.now())\n",
    "\n",
    "fig, (ax1, ax2) = plt.subplots(nrows=2, ncols=1, figsize=(12, 8))\n",
    "\n",
    "drawlines1 = []\n",
    "drawlines2 = []\n",
    "\n",
    "for d_id in np.unique(df['KeyID'])[:1000]:\n",
    "    df_sub = df.loc[df['KeyID'] == d_id, :]\n",
    "    if d_id in id_f:\n",
    "        drawlines1.append(df_sub['TimeSinceFirst'])\n",
    "        drawlines1.append(df_sub['Hb'])\n",
    "#         ax1.plot(df_sub['TimeSinceFirst'] / pd.Timedelta('1Y'), df_sub['Hb'], color='black', alpha=0.05)\n",
    "    else:\n",
    "        drawlines2.append(df_sub['TimeSinceFirst'])\n",
    "        drawlines2.append(df_sub['Hb'])\n",
    "#         ax2.plot(df_sub['TimeSinceFirst'] / pd.Timedelta('1Y'), df_sub['Hb'], color='black', alpha=0.05)\n",
    "\n",
    "ax1.plot(*drawlines1, color='black', alpha=0.1)\n",
    "ax2.plot(*drawlines2, color='black', alpha=0.1)\n",
    "        \n",
    "ax1.axhline(y=7.8, color='red', linestyle=':', linewidth=1)\n",
    "ax2.axhline(y=8.4, color='red', linestyle=':', linewidth=1)\n",
    "\n",
    "ax1.set_title('Hb values over time for women')\n",
    "ax2.set_title('Hb values over time for men')\n",
    "\n",
    "ax1.set_xlim((0, 9))\n",
    "ax2.set_xlim((0, 9))\n",
    "ax1.set_ylim((5, 15))\n",
    "ax2.set_ylim((5, 15))\n",
    "\n",
    "fig.text(0.5, 0.04, 'Years since first measurement', ha='center', fontsize=12)\n",
    "fig.text(0.04, 0.5, 'Hb value', va='center', rotation='vertical', fontsize=12)\n",
    "\n",
    "plt.show()\n",
    "\n",
    "print(datetime.datetime.now())"
   ]
  },
  {
   "cell_type": "code",
   "execution_count": null,
   "metadata": {},
   "outputs": [],
   "source": [
    "import plotly \n",
    "plotly.tools.set_credentials_file(username='mariekev93', api_key='GugOH830IvByChinL3bC')"
   ]
  },
  {
   "cell_type": "code",
   "execution_count": null,
   "metadata": {},
   "outputs": [],
   "source": [
    "len(id_f)"
   ]
  },
  {
   "cell_type": "code",
   "execution_count": null,
   "metadata": {},
   "outputs": [],
   "source": [
    "data_f = []\n",
    "for d_id in id_f[:97]:\n",
    "    df_sub = df.loc[df['KeyID'] == d_id, :]\n",
    "    trace = go.Scattergl(x = df_sub['TimeSinceFirst'],\n",
    "                         y = df_sub['Hb'],\n",
    "                         mode = 'lines',\n",
    "                         line = dict(color = ('rgba(0, 0, 0, 0.1)'),\n",
    "                                     width = 1))\n",
    "    data_f.append(trace)\n",
    "\n",
    "for d_id in sel_f:\n",
    "    df_sub = df.loc[df['KeyID'] == d_id, :]\n",
    "    trace = go.Scattergl(x = df_sub['TimeSinceFirst'],\n",
    "                         y = df_sub['Hb'],\n",
    "                         mode = 'lines',\n",
    "                         line = dict(width = 2))\n",
    "    data_f.append(trace)  "
   ]
  },
  {
   "cell_type": "code",
   "execution_count": null,
   "metadata": {},
   "outputs": [],
   "source": [
    "data_m = []\n",
    "for d_id in id_m[:97]:\n",
    "    df_sub = df.loc[df['KeyID'] == d_id, :]\n",
    "    trace = go.Scattergl(x = df_sub['TimeSinceFirst'],\n",
    "                         y = df_sub['Hb'],\n",
    "                         mode = 'lines',\n",
    "                         line = dict(color = ('rgba(0, 0, 0, 0.1)'),\n",
    "                                     width = 1))\n",
    "    data_m.append(trace)\n",
    "\n",
    "for d_id in sel_m:\n",
    "    df_sub = df.loc[df['KeyID'] == d_id, :]\n",
    "    trace = go.Scattergl(x = df_sub['TimeSinceFirst'],\n",
    "                         y = df_sub['Hb'],\n",
    "                         mode = 'lines',\n",
    "                         line = dict(width = 2))\n",
    "    data_m.append(trace) "
   ]
  },
  {
   "cell_type": "code",
   "execution_count": null,
   "metadata": {},
   "outputs": [],
   "source": [
    "fig = tools.make_subplots(rows=1, cols=2)\n",
    "\n",
    "for trace in data_f:\n",
    "    fig.append_trace(trace, 1, 1)\n",
    "\n",
    "for trace in data_m:\n",
    "    fig.append_trace(trace, 1, 2)\n",
    "\n",
    "fig['layout'].update(height=600, width=800)\n",
    "py.iplot(fig)"
   ]
  },
  {
   "cell_type": "code",
   "execution_count": null,
   "metadata": {},
   "outputs": [],
   "source": [
    "n = 9\n",
    "s = 3500\n",
    "df_donor_count = df.groupby('KeyID').size()\n",
    "topn_f = list(df_donor_count.loc[df_donor_count.index.isin(id_f)].sort_values(ascending=False)[s:s+n].index)\n",
    "topn_m = list(df_donor_count.loc[df_donor_count.index.isin(id_m)].sort_values(ascending=False)[s:s+n].index)\n",
    "\n",
    "plotIndividuals(df, ['DK.00419306', 'DK.00772555'])\n",
    "# plotIndividuals(df, topn_m)"
   ]
  },
  {
   "cell_type": "code",
   "execution_count": null,
   "metadata": {},
   "outputs": [],
   "source": [
    "sel_f = ['DK.01401342', 'DK.00392993', 'DK.00987577']\n",
    "sel_m = ['DK.01216473', 'DK.00043278', 'DK.00451868']"
   ]
  },
  {
   "cell_type": "code",
   "execution_count": null,
   "metadata": {},
   "outputs": [],
   "source": [
    "list(range(0, 3000, 365))"
   ]
  },
  {
   "cell_type": "code",
   "execution_count": null,
   "metadata": {},
   "outputs": [],
   "source": [
    "dfw = pd.read_json('X:/201902 Hb Trajectories/df_weekly_m.json')\n"
   ]
  },
  {
   "cell_type": "code",
   "execution_count": null,
   "metadata": {},
   "outputs": [],
   "source": [
    "fig, ax = plt.subplots(1, 3, figsize=(15, 7), sharex=True, sharey=True)\n",
    "\n",
    "for a in fig.axes:\n",
    "    a.tick_params(axis='none', labelsize=8, pad=1)  \n",
    "    a.grid(which='major')\n",
    "\n",
    "df0 = df.loc[df['KeyID'] == sel_m[0], :]\n",
    "ax[0].plot(df0['TimeSinceFirst']/365, df0['Hb'], color='black')\n",
    "ax[0].axhline(y=8.4, color='red')\n",
    "ax[0].set_title('Donor 1', fontsize=9)\n",
    "\n",
    "df1 = df.loc[df['KeyID'] == sel_m[1], :]\n",
    "ax[1].plot(df1['TimeSinceFirst']/365, df1['Hb'], color='black')\n",
    "ax[1].axhline(y=8.4, color='red')\n",
    "ax[1].set_title('Donor 2', fontsize=9)\n",
    "\n",
    "df2 = df.loc[df['KeyID'] == sel_m[2], :]\n",
    "ax[2].plot(df2['TimeSinceFirst']/365, df2['Hb'], color='black')\n",
    "ax[2].axhline(y=8.4, color='red')\n",
    "ax[2].set_title('Donor 3', fontsize=9)\n",
    "\n",
    "ax[0].set_ylabel('Hb (mmol/L)')\n",
    "fig.text(0.5, 0, 'Days since first donation', ha='center', fontsize=9) \n",
    "\n",
    "plt.show()"
   ]
  },
  {
   "cell_type": "code",
   "execution_count": null,
   "metadata": {},
   "outputs": [],
   "source": [
    "sel = ['DK.00419306', 'DK.00772555', 'DK.00200822']\n",
    "\n",
    "fig, ax = plt.subplots(1, 3, figsize=(15, 7), sharex=True, sharey=True)\n",
    "\n",
    "for a in fig.axes:\n",
    "    a.tick_params(axis='none', labelsize=8, pad=1)  \n",
    "    a.set_xticks(ticks=range(0, 3000, 365))\n",
    "    a.set_xticklabels(labels=range(0, 8))\n",
    "\n",
    "df0 = df.loc[df['KeyID'] == sel[0], :]\n",
    "ax[0].plot(df0['TimeSinceFirst'], df0['Hb'], color='black')\n",
    "ax[0].axhline(y=7.8, color='red')\n",
    "ax[0].set_title('Donor 1', fontsize=9)\n",
    "for t in df0['TimeSinceFirst']:\n",
    "    ax[0].axvline(t, color='grey', lw=0.8)\n",
    "\n",
    "df1 = df.loc[df['KeyID'] == sel[1], :]\n",
    "ax[1].plot(df1['TimeSinceFirst'], df1['Hb'], color='black')\n",
    "ax[1].axhline(y=8.4, color='red')\n",
    "ax[1].set_title('Donor 2', fontsize=9)\n",
    "for t in df1['TimeSinceFirst']:\n",
    "    ax[1].axvline(t, color='grey', lw=0.8)\n",
    "\n",
    "df2 = df.loc[df['KeyID'] == sel[2], :]\n",
    "ax[2].plot(df2['TimeSinceFirst'], df2['Hb'], color='black')\n",
    "ax[2].axhline(y=8.4, color='red')\n",
    "ax[2].set_title('Donor 3', fontsize=9)\n",
    "for t in df2['TimeSinceFirst']:\n",
    "    ax[2].axvline(t, color='grey', lw=0.8)\n",
    "\n",
    "ax[0].set_ylabel('Hb (mmol/L)')\n",
    "fig.text(0.5, 0, 'Days since first donation', ha='center', fontsize=9) \n",
    "\n",
    "plt.show()"
   ]
  }
 ],
 "metadata": {
  "kernelspec": {
   "display_name": "Python 3",
   "language": "python",
   "name": "python3"
  },
  "language_info": {
   "codemirror_mode": {
    "name": "ipython",
    "version": 3
   },
   "file_extension": ".py",
   "mimetype": "text/x-python",
   "name": "python",
   "nbconvert_exporter": "python",
   "pygments_lexer": "ipython3",
   "version": "3.7.2"
  }
 },
 "nbformat": 4,
 "nbformat_minor": 2
}
